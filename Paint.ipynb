{
  "nbformat": 4,
  "nbformat_minor": 0,
  "metadata": {
    "accelerator": "GPU",
    "colab": {
      "name": "Paint",
      "provenance": [],
      "collapsed_sections": [],
      "include_colab_link": true
    },
    "kernelspec": {
      "display_name": "Python 3",
      "name": "python3"
    },
    "language_info": {
      "name": "python"
    }
  },
  "cells": [
    {
      "cell_type": "markdown",
      "metadata": {
        "id": "view-in-github",
        "colab_type": "text"
      },
      "source": [
        "<a href=\"https://colab.research.google.com/github/sugi-san/Paint/blob/main/Paint.ipynb\" target=\"_parent\"><img src=\"https://colab.research.google.com/assets/colab-badge.svg\" alt=\"Open In Colab\"/></a>"
      ]
    },
    {
      "cell_type": "markdown",
      "metadata": {
        "id": "P-pImyy9tt39"
      },
      "source": [
        "#テーマ：写真から油絵を描く\n",
        "・扱える写真の種類は、jpg および png です。\\\n",
        "・サイズの上限は、縦横どちらかの最大が2000ピクセル以下であること（目安）。\\\n",
        "・ピクセルサイズは縦横とも、偶数である必要があります（動画作成時にエラーとなる）。\\\n",
        "・1〜20番までの文章が並んでいて、番号の前に何もないのは「手順」、番号の前に黒丸があるのは「プログラム」です。\n"
      ]
    },
    {
      "cell_type": "markdown",
      "metadata": {
        "id": "OpNAhRee_0Fy"
      },
      "source": [
        "### 1.自分のPCをマシンに接続\n",
        "**右上にある接続ボタンをクリック　→　接続完了で緑色のチェックマーク表示**"
      ]
    },
    {
      "cell_type": "code",
      "metadata": {
        "id": "xVm91xF0IXkJ",
        "cellView": "form"
      },
      "source": [
        "#@title 2.マシンへソフトをインストール\n",
        "!git clone https://github.com/sugi-san/Paint.git\n",
        "%cd Paint"
      ],
      "execution_count": null,
      "outputs": []
    },
    {
      "cell_type": "markdown",
      "metadata": {
        "id": "d7M3wR99Mn8p"
      },
      "source": [
        "### 3.左のウインドウを開く\n",
        "**左端のファイルシンボルをクリックし、Paintフォルダーの先頭をクリックして開く**\n"
      ]
    },
    {
      "cell_type": "markdown",
      "metadata": {
        "id": "vRIqqn8VWI5Q"
      },
      "source": [
        "**------------ サンプル画像でやってみる ------------**"
      ]
    },
    {
      "cell_type": "markdown",
      "metadata": {
        "id": "EI_gFfsIHlRZ"
      },
      "source": [
        "###4. サンプル画像の確認\n",
        "**inputフォルダーの先端をクリックして開き、中にある画像ファイルをダブルクリック。確認後×で戻る**"
      ]
    },
    {
      "cell_type": "code",
      "metadata": {
        "id": "ovrg6GqOIbzm",
        "cellView": "form"
      },
      "source": [
        "#@title 5.油絵の作成（inputフォルダーにある画像から選ぶ）\n",
        "\n",
        "from inference import run_inference\n",
        "import os \n",
        "import shutil\n",
        "\n",
        "# ファイルの指定\n",
        "input_img = 'sunflower.jpg' #@param {type:\"string\"}\n",
        "\n",
        "# outputフォルダーリセット\n",
        "if os.path.isdir('output'):\n",
        "    shutil.rmtree('output')\n",
        "\n",
        "# プロセス作成\n",
        "run_inference(input_path='input/'+input_img,\n",
        "              model_path='inference/model.pth',\n",
        "              output_dir='output/', \n",
        "              need_animation=True,  \n",
        "              resize_h=None,        \n",
        "              resize_w=None,\n",
        "              serial=True)          \n",
        "\n",
        "# 画像表示\n",
        "from IPython.display import Image, display_jpeg, display_png\n",
        "display_jpeg(Image('output/'+input_img))\n",
        "display_png(Image('output/'+input_img))"
      ],
      "execution_count": null,
      "outputs": []
    },
    {
      "cell_type": "markdown",
      "metadata": {
        "id": "z3Av9Q7lJeam"
      },
      "source": [
        "###6.油絵の確認\n",
        "**outputフォルダーの先端をクリックし、指定したファイルと同じ名前のものをダブルクリック。確認後×で戻る。**\\\n",
        "＊見えない場合は左端のフォルダーシンボルを２回クリック"
      ]
    },
    {
      "cell_type": "markdown",
      "metadata": {
        "id": "9LZLNLWKJM5l"
      },
      "source": [
        "###7.油絵のダウンロード\n",
        "**該当ファイルの右端の３つの点をクリックし、ダウンロードを選択**\n"
      ]
    },
    {
      "cell_type": "code",
      "metadata": {
        "id": "ui0m_3QWpWSe",
        "cellView": "form"
      },
      "source": [
        "#@title 8.動画の作成\n",
        "\n",
        "import glob\n",
        "from PIL import Image\n",
        "import os \n",
        "import shutil\n",
        "\n",
        "# process.mp4をリセット\n",
        "if os.path.exists('./output/process.mp4'):\n",
        "   os.remove('./output/process.mp4')  \n",
        "\n",
        "# フレームディレクトリ取得\n",
        "frame_dir = input_img[:input_img.find('.')]\n",
        "\n",
        "# gif,mp4の作成\n",
        "in_dir = 'output/'+frame_dir+'/*.jpg'\n",
        "out_path = 'output/process.gif'\n",
        "\n",
        "img, *imgs = [Image.open(f) for f in sorted(glob.glob(in_dir))]\n",
        "img.save(fp=out_path, format='GIF', append_images=imgs,\n",
        "          save_all=True, duration=100, loop=0)\n",
        "\n",
        "! ffmpeg -i output/process.gif -pix_fmt yuv420p output/process.mp4\n"
      ],
      "execution_count": null,
      "outputs": []
    },
    {
      "cell_type": "markdown",
      "metadata": {
        "id": "qebsJYIWKLFI"
      },
      "source": [
        "### 9.動画のダウンロード\n",
        "**outputフォルダーのprocess.mp4の右端の３つの点をクリックし、ダウンロードを選択**\\\n",
        "＊見えない場合は左端のフォルダーシンボルを２回クリック"
      ]
    },
    {
      "cell_type": "markdown",
      "metadata": {
        "id": "vT7kINlskVEe"
      },
      "source": [
        "**------------- 自分の画像でやってみる --------------**"
      ]
    },
    {
      "cell_type": "markdown",
      "metadata": {
        "id": "wwDutYLaUpsI"
      },
      "source": [
        "### 10.自分の画像をアップロード\n",
        "**inputフォルダーの右端の３つの点をクリックし、アップロードを選択**\n"
      ]
    },
    {
      "cell_type": "markdown",
      "metadata": {
        "id": "fRPJpisvIRqR"
      },
      "source": [
        "###11. アップロードした画像を確認\n",
        "**inputフォルダーにある該当画像をダブルクリック**"
      ]
    },
    {
      "cell_type": "code",
      "metadata": {
        "id": "VhUUdvX5WnJp",
        "cellView": "form"
      },
      "source": [
        "#@title 12.油絵の作成（inputフォルダーにある画像から選ぶ）\n",
        "\n",
        "from inference import run_inference\n",
        "import os \n",
        "import shutil\n",
        "\n",
        "# ファイルの指定\n",
        "input_img = '002.jpg' #@param {type:\"string\"}\n",
        "\n",
        "# outputフォルダーリセット\n",
        "if os.path.isdir('output'):\n",
        "    shutil.rmtree('output')\n",
        "\n",
        "# プロセス作成\n",
        "run_inference(input_path='input/'+input_img,\n",
        "              model_path='inference/model.pth',\n",
        "              output_dir='output/', \n",
        "              need_animation=True,  \n",
        "              resize_h=None,        \n",
        "              resize_w=None,\n",
        "              serial=True)          \n",
        "\n",
        "# 画像表示\n",
        "from IPython.display import Image, display_jpeg, display_png\n",
        "display_jpeg(Image('output/'+input_img))\n",
        "display_png(Image('output/'+input_img))"
      ],
      "execution_count": null,
      "outputs": []
    },
    {
      "cell_type": "markdown",
      "metadata": {
        "id": "HRJ067P-ovhT"
      },
      "source": [
        "###13.油絵の確認\n",
        "**outputフォルダーにある指定したファイルと同じ名前のものをダブルクリック。確認後×で戻る。**\\\n",
        "＊見えない場合は左端のフォルダーシンボルを２回クリック"
      ]
    },
    {
      "cell_type": "markdown",
      "metadata": {
        "id": "TR9A7ZVPLZj6"
      },
      "source": [
        "### 14.油絵のダウンロード\n",
        "**該当ファイルの右端の３つの点をクリックしダウンロードを選択**\n"
      ]
    },
    {
      "cell_type": "code",
      "metadata": {
        "id": "04Ci8bQTL9PF",
        "cellView": "form"
      },
      "source": [
        "#@title 15.動画の作成\n",
        "\n",
        "import glob\n",
        "from PIL import Image\n",
        "import os \n",
        "import shutil\n",
        "\n",
        "# process.mp4をリセット\n",
        "if os.path.exists('./output/process.mp4'):\n",
        "   os.remove('./output/process.mp4')  \n",
        "\n",
        "# フレームディレクトリ取得\n",
        "frame_dir = input_img[:input_img.find('.')]\n",
        "\n",
        "# gif,mp4の作成\n",
        "in_dir = 'output/'+frame_dir+'/*.jpg'\n",
        "out_path = 'output/process.gif'\n",
        "\n",
        "img, *imgs = [Image.open(f) for f in sorted(glob.glob(in_dir))]\n",
        "img.save(fp=out_path, format='GIF', append_images=imgs,\n",
        "          save_all=True, duration=100, loop=0)\n",
        "\n",
        "! ffmpeg -i output/process.gif -pix_fmt yuv420p output/process.mp4\n"
      ],
      "execution_count": null,
      "outputs": []
    },
    {
      "cell_type": "markdown",
      "metadata": {
        "id": "J0a59SB9P9T2"
      },
      "source": [
        "###16. 動画のダウンロード\n",
        "**先程と同じようにダウンロードしても良いが、大きな動画はダウンロードに時間がかかり過ぎる。**\\\n",
        "**そのため、19,20の設定を行ってから次に進む。**"
      ]
    },
    {
      "cell_type": "code",
      "metadata": {
        "id": "EXhnyQcviyG6",
        "cellView": "form"
      },
      "source": [
        "#@title 17.動画をマシンからgoogle driveへコピー\n",
        "! cp output/process.mp4 /content/drive/MyDrive/process.mp4"
      ],
      "execution_count": null,
      "outputs": []
    },
    {
      "cell_type": "markdown",
      "metadata": {
        "id": "E6OGhCX1i7HF"
      },
      "source": [
        "### 18.動画をgoogle driveからPCへダウンロード\n",
        "**タブをgoogle driveに切り替え、process.mp4をダウンロード**\\\n"
      ]
    },
    {
      "cell_type": "markdown",
      "metadata": {
        "id": "IWunMBkzXj9V"
      },
      "source": [
        ""
      ]
    },
    {
      "cell_type": "markdown",
      "metadata": {
        "id": "F3OCS5erWUTC"
      },
      "source": [
        "**========== google drive経由でダウンロードする設定（1回だけ実施） ==========**\n"
      ]
    },
    {
      "cell_type": "code",
      "metadata": {
        "id": "EIgY2s-Pjx1h",
        "cellView": "form"
      },
      "source": [
        "#@title 19.マシンにgoogle driveを接続\n",
        "from google.colab import drive\n",
        "drive.mount('/content/drive')"
      ],
      "execution_count": null,
      "outputs": []
    },
    {
      "cell_type": "markdown",
      "metadata": {
        "id": "-KF_DFYVj4a_"
      },
      "source": [
        "### 20.自分のPCにgoogle driveを接続\n",
        "**新しいタブでgoogle driveを開く**"
      ]
    },
    {
      "cell_type": "markdown",
      "metadata": {
        "id": "sFFy37TxqVv_"
      },
      "source": [
        "**===============================================================**"
      ]
    },
    {
      "cell_type": "markdown",
      "metadata": {
        "id": "23KKbRE-QKVZ"
      },
      "source": [
        "###【備考】\n",
        "・画像サイスが大きすぎるとGPUのメモリエラーが発生します。\\\n",
        "・GPUのメモリエラーが発生した場合は、「ランタイム／ランタイムを出荷設定にリセット」を押して全体を初期状態に戻してから、再度「接続」からやり直します。\\\n",
        "・長時間使用するとgoogleから使用制限を受ける場合がありますが、12h〜24h程度経つと使用制限が解除されます。\\\n",
        "\n"
      ]
    }
  ]
}