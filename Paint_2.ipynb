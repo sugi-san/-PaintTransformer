{
  "nbformat": 4,
  "nbformat_minor": 0,
  "metadata": {
    "accelerator": "GPU",
    "colab": {
      "name": "Paint_2.ipynb",
      "provenance": [],
      "collapsed_sections": [],
      "include_colab_link": true
    },
    "kernelspec": {
      "display_name": "Python 3",
      "name": "python3"
    },
    "language_info": {
      "name": "python"
    }
  },
  "cells": [
    {
      "cell_type": "markdown",
      "metadata": {
        "id": "view-in-github",
        "colab_type": "text"
      },
      "source": [
        "<a href=\"https://colab.research.google.com/github/sugi-san/Paint/blob/main/Paint_2.ipynb\" target=\"_parent\"><img src=\"https://colab.research.google.com/assets/colab-badge.svg\" alt=\"Open In Colab\"/></a>"
      ]
    },
    {
      "cell_type": "code",
      "metadata": {
        "id": "xVm91xF0IXkJ",
        "cellView": "form"
      },
      "source": [
        "#@title #**1.セットアップ**\n",
        "\n",
        "# git clone\n",
        "!git clone https://github.com/sugi-san/Paint.git\n",
        "%cd Paint\n",
        "\n",
        "# import function.py\n",
        "from function import *\n",
        "\n",
        "# make folder\n",
        "reset_folder('download')"
      ],
      "execution_count": null,
      "outputs": []
    },
    {
      "cell_type": "code",
      "source": [
        "#@title #**2.画像の表示**\n",
        "display_pic('input')"
      ],
      "metadata": {
        "cellView": "form",
        "id": "b2H4OCj_al0F"
      },
      "execution_count": null,
      "outputs": []
    },
    {
      "cell_type": "code",
      "metadata": {
        "id": "ovrg6GqOIbzm",
        "cellView": "form"
      },
      "source": [
        "#@title #**3.油絵の作成**\n",
        "\n",
        "from inference import run_inference\n",
        "import os \n",
        "import shutil\n",
        "\n",
        "# ファイルの指定\n",
        "picture = '28.jpg' #@param {type:\"string\"}\n",
        "\n",
        "# outputフォルダーリセット\n",
        "reset_folder('output')\n",
        "\n",
        "# プロセス作成\n",
        "run_inference(input_path='input/'+picture,\n",
        "              model_path='inference/model.pth',\n",
        "              output_dir='output/', \n",
        "              need_animation=True,  \n",
        "              resize_h=None,        \n",
        "              resize_w=None,\n",
        "              serial=True)          \n",
        "\n",
        "# 画像表示\n",
        "from IPython.display import Image, display\n",
        "display(Image('output/'+picture))\n",
        "\n",
        "# 画像ダウンロード\n",
        "from google.colab import files\n",
        "shutil.copy('output/'+picture, 'download/oil_'+picture)\n",
        "files.download('download/oil_'+picture)"
      ],
      "execution_count": null,
      "outputs": []
    },
    {
      "cell_type": "code",
      "metadata": {
        "id": "ui0m_3QWpWSe",
        "cellView": "form"
      },
      "source": [
        "#@title #**4.動画の作成**\n",
        "\n",
        "import glob\n",
        "from PIL import Image\n",
        "import os \n",
        "import shutil\n",
        "from IPython.display import clear_output\n",
        "\n",
        "# process.mp4をリセット\n",
        "if os.path.exists('./output/process.mp4'):\n",
        "   os.remove('./output/process.mp4')  \n",
        "\n",
        "# フレームディレクトリ取得\n",
        "frame_dir = picture[:picture.find('.')]\n",
        "\n",
        "# gifの作成\n",
        "in_dir = 'output/'+frame_dir+'/*.jpg'\n",
        "out_path = 'output/process.gif'\n",
        "\n",
        "img, *imgs = [Image.open(f) for f in sorted(glob.glob(in_dir))]\n",
        "img.save(fp=out_path, format='GIF', append_images=imgs,\n",
        "          save_all=True, duration=100, loop=0)\n",
        "\n",
        "# gif2mp4変換\n",
        "print('making video...')\n",
        "! ffmpeg -y -i output/process.gif -pix_fmt yuv420p -crf 32 -loglevel error output/process.mp4\n",
        "clear_output()\n",
        "\n",
        "# mp4再生\n",
        "display_mp4('./output/process.mp4')\n",
        "\n",
        "# 動画ダウンロード\n",
        "from google.colab import files\n",
        "name = os.path.splitext(picture)[0]\n",
        "shutil.copy('output/process.mp4', 'download/'+name+'.mp4')\n",
        "files.download('download/'+name+'.mp4')"
      ],
      "execution_count": null,
      "outputs": []
    },
    {
      "cell_type": "code",
      "source": [
        "#@title #**5.写真のアップロード**\n",
        "\n",
        "#@markdown -ファイル名（jpg）は半角英数字にしてください\n",
        "\n",
        "# ルートへ画像をアップロード\n",
        "from google.colab import files\n",
        "uploaded = files.upload()           \n",
        "uploaded = list(uploaded.keys())    \n",
        "\n",
        "# ルートから指定フォルダーへ移動\n",
        "for file in uploaded:\n",
        "    size_opt(file)\n",
        "    shutil.move(file, 'input')"
      ],
      "metadata": {
        "cellView": "form",
        "id": "POPK-q7oDug1"
      },
      "execution_count": null,
      "outputs": []
    }
  ]
}