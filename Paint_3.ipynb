{
  "cells": [
    {
      "cell_type": "markdown",
      "metadata": {
        "id": "view-in-github",
        "colab_type": "text"
      },
      "source": [
        "<a href=\"https://colab.research.google.com/github/sugi-san/Paint/blob/main/Paint_3.ipynb\" target=\"_parent\"><img src=\"https://colab.research.google.com/assets/colab-badge.svg\" alt=\"Open In Colab\"/></a>"
      ]
    },
    {
      "cell_type": "code",
      "execution_count": null,
      "metadata": {
        "id": "xVm91xF0IXkJ",
        "cellView": "form"
      },
      "outputs": [],
      "source": [
        "#@title #**1.セットアップ**\n",
        "\n",
        "# git clone\n",
        "!git clone https://github.com/sugi-san/Paint.git\n",
        "%cd Paint\n",
        "\n",
        "# import function.py\n",
        "from function import *\n",
        "\n",
        "# stop warnings\n",
        "import warnings\n",
        "warnings.simplefilter('ignore')\n",
        "\n",
        "# make folder\n",
        "reset_folder('download')"
      ]
    },
    {
      "cell_type": "code",
      "execution_count": null,
      "metadata": {
        "cellView": "form",
        "id": "b2H4OCj_al0F"
      },
      "outputs": [],
      "source": [
        "#@title #**2.画像の表示**\n",
        "display_pic('input')"
      ]
    },
    {
      "cell_type": "code",
      "execution_count": null,
      "metadata": {
        "id": "ovrg6GqOIbzm",
        "cellView": "form"
      },
      "outputs": [],
      "source": [
        "#@title #**3.油絵の作成**\n",
        "\n",
        "from inference import run_inference\n",
        "import os \n",
        "import shutil\n",
        "\n",
        "# ファイルの指定\n",
        "picture = 'nakata.jpg' #@param {type:\"string\"}\n",
        "\n",
        "# フォルダーリセット\n",
        "reset_folder('pic')\n",
        "reset_folder('output')\n",
        "\n",
        "# 解像度調整\n",
        "fine = False #@param {type:\"boolean\"}\n",
        "if fine == True:\n",
        "  resolution = 1920\n",
        "  reso = 'fine_'\n",
        "else:\n",
        "  resolution = 1280\n",
        "  reso = ''\n",
        "\n",
        "shutil.copy('input/'+picture, 'pic/'+picture)\n",
        "size_opt('pic/'+picture, resolution)\n",
        "\n",
        "\n",
        "# プロセス作成\n",
        "run_inference(input_path='pic/'+picture,\n",
        "              model_path='inference/model.pth',\n",
        "              output_dir='output/', \n",
        "              need_animation=True,  \n",
        "              resize_h=None,        \n",
        "              resize_w=None,\n",
        "              serial=True)          \n",
        "\n",
        "# 画像表示\n",
        "from IPython.display import Image, display, clear_output\n",
        "clear_output()\n",
        "display(Image('output/'+picture))\n",
        "\n",
        "# 画像ダウンロード\n",
        "from google.colab import files\n",
        "shutil.copy('output/'+picture, 'download/oil_'+reso+picture)\n",
        "files.download('download/oil_'+reso+picture)"
      ]
    },
    {
      "cell_type": "code",
      "source": [
        "#@title #**4.動画の作成**\n",
        "\n",
        "import glob\n",
        "from PIL import Image\n",
        "import os \n",
        "import shutil\n",
        "from IPython.display import clear_output\n",
        "\n",
        "# フレームフォルダ・リセット\n",
        "reset_folder('output/frame')\n",
        "\n",
        "# フレームNo.を0から連番に変換\n",
        "name = os.path.splitext(picture)[0]\n",
        "files = sorted(glob.glob('output/'+name+'/*.jpg'))\n",
        "for i, file in enumerate(files): \n",
        "    shutil.copy(file, 'output/frame/'+str(i).zfill(6)+'.jpg')\n",
        "\n",
        "    # 最終フレームを60枚コピー\n",
        "    if i == len(files)-1:\n",
        "      for j in range(len(files), len(files)+60):\n",
        "         shutil.copy(files[-1], 'output/frame/'+str(j).zfill(6)+'.jpg')\n",
        "\n",
        "print('making video...')\n",
        "! ffmpeg -y -r 30 -i output/frame/%06d.jpg -pix_fmt yuv420p -loglevel error output/process.mp4\n",
        "clear_output()\n",
        "\n",
        "# mp4再生\n",
        "display_mp4('./output/process.mp4')\n",
        "\n",
        "# 動画ダウンロード\n",
        "from google.colab import files\n",
        "name = os.path.splitext(picture)[0]\n",
        "shutil.copy('output/process.mp4', 'download/'+reso+name+'.mp4')\n",
        "files.download('download/'+reso+name+'.mp4')"
      ],
      "metadata": {
        "id": "hxaNvQjlxmYj",
        "cellView": "form"
      },
      "execution_count": null,
      "outputs": []
    },
    {
      "cell_type": "code",
      "execution_count": null,
      "metadata": {
        "cellView": "form",
        "id": "POPK-q7oDug1"
      },
      "outputs": [],
      "source": [
        "#@title #**5.写真のアップロード**\n",
        "\n",
        "#@markdown -ファイル名（jpg）は半角英数字にしてください\n",
        "\n",
        "# ルートへ画像をアップロード\n",
        "from google.colab import files\n",
        "uploaded = files.upload()           \n",
        "uploaded = list(uploaded.keys())    \n",
        "\n",
        "# ルートから指定フォルダーへ移動\n",
        "for file in uploaded:\n",
        "    size_opt(file)\n",
        "    shutil.move(file, 'input')"
      ]
    }
  ],
  "metadata": {
    "accelerator": "GPU",
    "colab": {
      "collapsed_sections": [],
      "name": "Paint_3",
      "provenance": [],
      "include_colab_link": true
    },
    "kernelspec": {
      "display_name": "Python 3",
      "name": "python3"
    },
    "language_info": {
      "name": "python"
    }
  },
  "nbformat": 4,
  "nbformat_minor": 0
}