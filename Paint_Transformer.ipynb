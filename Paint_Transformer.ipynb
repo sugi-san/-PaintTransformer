{
  "nbformat": 4,
  "nbformat_minor": 0,
  "metadata": {
    "accelerator": "GPU",
    "colab": {
      "name": "Paint_Transformer",
      "provenance": [],
      "collapsed_sections": [],
      "include_colab_link": true
    },
    "kernelspec": {
      "display_name": "Python 3",
      "name": "python3"
    },
    "language_info": {
      "name": "python"
    }
  },
  "cells": [
    {
      "cell_type": "markdown",
      "metadata": {
        "id": "view-in-github",
        "colab_type": "text"
      },
      "source": [
        "<a href=\"https://colab.research.google.com/github/sugi-san/PaintTransformer/blob/main/Paint_Transformer.ipynb\" target=\"_parent\"><img src=\"https://colab.research.google.com/assets/colab-badge.svg\" alt=\"Open In Colab\"/></a>"
      ]
    },
    {
      "cell_type": "markdown",
      "metadata": {
        "id": "OpNAhRee_0Fy"
      },
      "source": [
        "### 1.自分のPCにマシンを接続\n",
        "**右上にある接続ボタンをクリックする**"
      ]
    },
    {
      "cell_type": "code",
      "metadata": {
        "cellView": "form",
        "id": "3wlG77F2tOu1"
      },
      "source": [
        "#@title 2.マシンにgoogle driveを接続\n",
        "from google.colab import drive\n",
        "drive.mount('/content/drive')"
      ],
      "execution_count": null,
      "outputs": []
    },
    {
      "cell_type": "markdown",
      "metadata": {
        "id": "Iyn7jdK44SUn"
      },
      "source": [
        "### 3.自分のPCにgoogle driveを接続\n",
        "**新しいタブでgoogle driveを開く**"
      ]
    },
    {
      "cell_type": "code",
      "metadata": {
        "cellView": "form",
        "id": "xVm91xF0IXkJ"
      },
      "source": [
        "#@title 4.マシンへソフトをインストール\n",
        "\n",
        "# githubからコードを取得\n",
        "!git clone https://github.com/sugi-san/PaintTransformer.git\n",
        "%cd PaintTransformer/inference"
      ],
      "execution_count": null,
      "outputs": []
    },
    {
      "cell_type": "markdown",
      "metadata": {
        "id": "i3N0q0YZS65g"
      },
      "source": [
        "### 5.左のウインドウを開く\n",
        "**左端のファイルシンボルをクリックし、PaintTransformerの先頭、inferenceの先頭とクリックする**"
      ]
    },
    {
      "cell_type": "markdown",
      "metadata": {
        "id": "vRIqqn8VWI5Q"
      },
      "source": [
        "**------------ サンプル画像でやってみる ------------**"
      ]
    },
    {
      "cell_type": "code",
      "metadata": {
        "id": "ovrg6GqOIbzm",
        "cellView": "form"
      },
      "source": [
        "#@title 6.油絵動画の作成（ひまわり）\n",
        "\n",
        "# --- ファイルの指定 ---\n",
        "input_img = 'sunflower.jpg' \n",
        "\n",
        "# --- ペイントプロセスの作成 ---\n",
        "from inference import run_inference\n",
        "import os \n",
        "import shutil\n",
        "\n",
        "# outputフォルダーリセット\n",
        "if os.path.isdir('output'):\n",
        "    shutil.rmtree('output')\n",
        "\n",
        "# output.mp4をリセット\n",
        "if os.path.exists('./output.mp4'):\n",
        "   os.remove('./output.mp4')\n",
        "\n",
        "# name取得\n",
        "name = input_img[:-4]\n",
        "\n",
        "# プロセス作成\n",
        "run_inference(input_path='input/'+input_img,\n",
        "              model_path='model.pth',\n",
        "              output_dir='output/', # whether need intermediate results for animation.\n",
        "              need_animation=True,  # resize original input to this size. None means do not resize.\n",
        "              resize_h=None,        # resize original input to this size. None means do not resize.\n",
        "              resize_w=None,\n",
        "              serial=True)          # if need animation, serial must be True.\n",
        "\n",
        "\n",
        "# --- プロセスからgifとmp4を作成 ---\n",
        "import glob\n",
        "from PIL import Image\n",
        "\n",
        "# Set to dir with output images\n",
        "in_dir = 'output/'+name+'/*.jpg'\n",
        "out_path = 'output/process.gif'\n",
        "\n",
        "img, *imgs = [Image.open(f) for f in sorted(glob.glob(in_dir))]\n",
        "img.save(fp=out_path, format='GIF', append_images=imgs,\n",
        "          save_all=True, duration=100, loop=0)\n",
        "\n",
        "! ffmpeg -i output/process.gif -pix_fmt yuv420p output.mp4"
      ],
      "execution_count": null,
      "outputs": []
    },
    {
      "cell_type": "code",
      "metadata": {
        "id": "ui0m_3QWpWSe",
        "cellView": "form"
      },
      "source": [
        "#@title 7.動画の再生\n",
        "from IPython.display import HTML\n",
        "from base64 import b64encode\n",
        "\n",
        "mp4 = open('./output.mp4', 'rb').read()\n",
        "data_url = 'data:video/mp4;base64,' + b64encode(mp4).decode()\n",
        "HTML(f\"\"\"\n",
        "<video width=\"70%\" height=\"70%\" controls>\n",
        "      <source src=\"{data_url}\" type=\"video/mp4\">\n",
        "</video>\"\"\")"
      ],
      "execution_count": null,
      "outputs": []
    },
    {
      "cell_type": "markdown",
      "metadata": {
        "id": "F3OCS5erWUTC"
      },
      "source": [
        "**------------- 自分の画像でやってみる（小さいサイズ） --------------**"
      ]
    },
    {
      "cell_type": "markdown",
      "metadata": {
        "id": "wwDutYLaUpsI"
      },
      "source": [
        "### 8.自分の画像をアップロード\n",
        "**inputフォルダーの右端の３つの点をクリックし、アップロードを選択**\\\n",
        "＊縦横サイズは、偶数にして下さい"
      ]
    },
    {
      "cell_type": "code",
      "metadata": {
        "id": "VhUUdvX5WnJp",
        "cellView": "form"
      },
      "source": [
        "#@title 9.油絵動画の作成\n",
        "\n",
        "# --- ファイルの指定 ---\n",
        "input_img = '' #@param {type:\"string\"}\n",
        "\n",
        "# --- ペイントプロセスの作成 ---\n",
        "from inference import run_inference\n",
        "import os \n",
        "import shutil\n",
        "\n",
        "# outputフォルダーリセット\n",
        "if os.path.isdir('output'):\n",
        "    shutil.rmtree('output')\n",
        "\n",
        "# output.mp4をリセット\n",
        "if os.path.exists('./output.mp4'):\n",
        "   os.remove('./output.mp4')    \n",
        "\n",
        "# name取得\n",
        "name = input_img[:-4]\n",
        "\n",
        "# プロセス作成\n",
        "run_inference(input_path='input/'+input_img,\n",
        "              model_path='model.pth',\n",
        "              output_dir='output/', # whether need intermediate results for animation.\n",
        "              need_animation=True,  # resize original input to this size. None means do not resize.\n",
        "              resize_h=None,        # resize original input to this size. None means do not resize.\n",
        "              resize_w=None,\n",
        "              serial=True)          # if need animation, serial must be True.\n",
        "\n",
        "\n",
        "# --- プロセスからgifとmp4を作成 ---\n",
        "import glob\n",
        "from PIL import Image\n",
        "\n",
        "# Set to dir with output images\n",
        "in_dir = 'output/'+name+'/*.jpg'\n",
        "out_path = 'output/process.gif'\n",
        "\n",
        "img, *imgs = [Image.open(f) for f in sorted(glob.glob(in_dir))]\n",
        "img.save(fp=out_path, format='GIF', append_images=imgs,\n",
        "          save_all=True, duration=100, loop=0)\n",
        "\n",
        "! ffmpeg -i output/process.gif -pix_fmt yuv420p output.mp4"
      ],
      "execution_count": null,
      "outputs": []
    },
    {
      "cell_type": "code",
      "metadata": {
        "id": "VU9TDp6yWre3",
        "cellView": "form"
      },
      "source": [
        "#@title 10.動画の再生\n",
        "from IPython.display import HTML\n",
        "from base64 import b64encode\n",
        "\n",
        "mp4 = open('./output.mp4', 'rb').read()\n",
        "data_url = 'data:video/mp4;base64,' + b64encode(mp4).decode()\n",
        "HTML(f\"\"\"\n",
        "<video width=\"70%\" height=\"70%\" controls>\n",
        "      <source src=\"{data_url}\" type=\"video/mp4\">\n",
        "</video>\"\"\")"
      ],
      "execution_count": null,
      "outputs": []
    },
    {
      "cell_type": "markdown",
      "metadata": {
        "id": "5gAoOKC-97e1"
      },
      "source": [
        "### 11.動画のダウンロード\n",
        "**output.mp4の右端の３つの点をクリックし、ダウンロードを選択**"
      ]
    },
    {
      "cell_type": "markdown",
      "metadata": {
        "id": "f9nsjEgr6rMj"
      },
      "source": [
        "**------------- 自分の画像でやってみる（大きいサイズ） --------------**"
      ]
    },
    {
      "cell_type": "markdown",
      "metadata": {
        "id": "6RWz-5bm83om"
      },
      "source": [
        "### 12.自分の画像をアップロード\n",
        "**inputフォルダーの右端の３つの点をクリックし、アップロードを選択**\\\n",
        "＊縦横サイズは、偶数にして下さい"
      ]
    },
    {
      "cell_type": "code",
      "metadata": {
        "id": "rtxlScmN69ez",
        "cellView": "form"
      },
      "source": [
        "#@title 13.油絵動画の作成\n",
        "\n",
        "# --- ファイルの指定 ---\n",
        "input_img = '' #@param {type:\"string\"}\n",
        "\n",
        "# --- ペイントプロセスの作成 ---\n",
        "from inference import run_inference\n",
        "import os \n",
        "import shutil\n",
        "\n",
        "# outputフォルダーリセット\n",
        "if os.path.isdir('output'):\n",
        "    shutil.rmtree('output')\n",
        "\n",
        "# output.mp4をリセット\n",
        "if os.path.exists('./output.mp4'):\n",
        "   os.remove('./output.mp4')    \n",
        "\n",
        "# name取得\n",
        "name = input_img[:-4]\n",
        "\n",
        "# プロセス作成\n",
        "run_inference(input_path='input/'+input_img,\n",
        "              model_path='model.pth',\n",
        "              output_dir='output/', # whether need intermediate results for animation.\n",
        "              need_animation=True,  # resize original input to this size. None means do not resize.\n",
        "              resize_h=None,        # resize original input to this size. None means do not resize.\n",
        "              resize_w=None,\n",
        "              serial=True)          # if need animation, serial must be True.\n",
        "\n",
        "\n",
        "# --- プロセスからgifとmp4を作成 ---\n",
        "import glob\n",
        "from PIL import Image\n",
        "\n",
        "# Set to dir with output images\n",
        "in_dir = 'output/'+name+'/*.jpg'\n",
        "out_path = 'output/process.gif'\n",
        "\n",
        "img, *imgs = [Image.open(f) for f in sorted(glob.glob(in_dir))]\n",
        "img.save(fp=out_path, format='GIF', append_images=imgs,\n",
        "          save_all=True, duration=100, loop=0)\n",
        "\n",
        "! ffmpeg -i output/process.gif -pix_fmt yuv420p output.mp4"
      ],
      "execution_count": null,
      "outputs": []
    },
    {
      "cell_type": "code",
      "metadata": {
        "id": "LlYHC62-dm-I",
        "cellView": "form"
      },
      "source": [
        "#@title 14.動画をgoogle driveにコピー\n",
        "! cp output.mp4 /content/drive/MyDrive/output.mp4"
      ],
      "execution_count": null,
      "outputs": []
    },
    {
      "cell_type": "markdown",
      "metadata": {
        "id": "uf89tX4o7HbT"
      },
      "source": [
        "### 15.google driveから動画をダウンロード\n",
        "タブをgoogle driveに切り替え、output.mp4をダウンロード"
      ]
    }
  ]
}